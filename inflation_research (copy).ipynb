{
 "cells": [
  {
   "cell_type": "markdown",
   "metadata": {},
   "source": [
    "# Which Asset Class is safe againts unexpected inflation?"
   ]
  },
  {
   "cell_type": "code",
   "execution_count": 161,
   "metadata": {},
   "outputs": [],
   "source": [
    "import pandas as pd\n",
    "from matplotlib import pyplot as plt\n",
    "import seaborn as sns\n",
    "from pandas.tseries.offsets import MonthEnd"
   ]
  },
  {
   "cell_type": "markdown",
   "metadata": {},
   "source": [
    "## 1. Prepare Expected Inflation Rates"
   ]
  },
  {
   "cell_type": "code",
   "execution_count": 162,
   "metadata": {},
   "outputs": [],
   "source": [
    "tbond = pd.read_csv('10y_tbond.csv')"
   ]
  },
  {
   "cell_type": "code",
   "execution_count": 163,
   "metadata": {},
   "outputs": [
    {
     "name": "stdout",
     "output_type": "stream",
     "text": [
      "<class 'pandas.core.frame.DataFrame'>\n",
      "RangeIndex: 617 entries, 0 to 616\n",
      "Data columns (total 6 columns):\n",
      " #   Column    Non-Null Count  Dtype  \n",
      "---  ------    --------------  -----  \n",
      " 0   Date      617 non-null    object \n",
      " 1   Price     617 non-null    float64\n",
      " 2   Open      617 non-null    float64\n",
      " 3   High      617 non-null    float64\n",
      " 4   Low       617 non-null    float64\n",
      " 5   Change %  617 non-null    object \n",
      "dtypes: float64(4), object(2)\n",
      "memory usage: 29.0+ KB\n"
     ]
    }
   ],
   "source": [
    "tbond.info()"
   ]
  },
  {
   "cell_type": "code",
   "execution_count": 164,
   "metadata": {},
   "outputs": [],
   "source": [
    "def adjust_date_index(df):\n",
    "    def repl(m):\n",
    "        return \"20{}\".format(m.group(0))\n",
    "    \n",
    "    df.loc[df['Date'].str[-2:].astype(int) <= 21, 'Date'] = \\\n",
    "        df[df['Date'].str[-2:].astype(int) <= 21]['Date'].str.replace(r\"..$\",repl)\n",
    "    \n",
    "    def repl(m):\n",
    "        return \"19{}\".format(m.group(0))\n",
    "    \n",
    "    df.loc[df['Date'].str[-2:].astype(int) > 21, 'Date'] = \\\n",
    "        df[df['Date'].str[-2:].astype(int) > 21]['Date'].str.replace(r\"..$\",repl)\n",
    "    \n",
    "    df['Date'] = pd.to_datetime(df['Date'], format=\"%b %Y\") + MonthEnd(1)\n",
    "    return df"
   ]
  },
  {
   "cell_type": "code",
   "execution_count": 165,
   "metadata": {},
   "outputs": [],
   "source": [
    "tbond_cleaned = tbond.copy()"
   ]
  },
  {
   "cell_type": "code",
   "execution_count": 166,
   "metadata": {},
   "outputs": [],
   "source": [
    "tbond_cleaned = adjust_date_index(tbond_cleaned)"
   ]
  },
  {
   "cell_type": "code",
   "execution_count": 167,
   "metadata": {},
   "outputs": [
    {
     "data": {
      "text/html": [
       "<div>\n",
       "<style scoped>\n",
       "    .dataframe tbody tr th:only-of-type {\n",
       "        vertical-align: middle;\n",
       "    }\n",
       "\n",
       "    .dataframe tbody tr th {\n",
       "        vertical-align: top;\n",
       "    }\n",
       "\n",
       "    .dataframe thead th {\n",
       "        text-align: right;\n",
       "    }\n",
       "</style>\n",
       "<table border=\"1\" class=\"dataframe\">\n",
       "  <thead>\n",
       "    <tr style=\"text-align: right;\">\n",
       "      <th></th>\n",
       "      <th>Date</th>\n",
       "      <th>Price</th>\n",
       "      <th>Open</th>\n",
       "      <th>High</th>\n",
       "      <th>Low</th>\n",
       "      <th>Change %</th>\n",
       "    </tr>\n",
       "  </thead>\n",
       "  <tbody>\n",
       "    <tr>\n",
       "      <th>0</th>\n",
       "      <td>2021-06-30</td>\n",
       "      <td>1.443</td>\n",
       "      <td>1.610</td>\n",
       "      <td>1.637</td>\n",
       "      <td>1.430</td>\n",
       "      <td>-8.69%</td>\n",
       "    </tr>\n",
       "    <tr>\n",
       "      <th>1</th>\n",
       "      <td>2021-05-31</td>\n",
       "      <td>1.581</td>\n",
       "      <td>1.631</td>\n",
       "      <td>1.707</td>\n",
       "      <td>1.469</td>\n",
       "      <td>-2.78%</td>\n",
       "    </tr>\n",
       "    <tr>\n",
       "      <th>2</th>\n",
       "      <td>2021-04-30</td>\n",
       "      <td>1.626</td>\n",
       "      <td>1.737</td>\n",
       "      <td>1.753</td>\n",
       "      <td>1.528</td>\n",
       "      <td>-6.77%</td>\n",
       "    </tr>\n",
       "    <tr>\n",
       "      <th>3</th>\n",
       "      <td>2021-03-31</td>\n",
       "      <td>1.744</td>\n",
       "      <td>1.395</td>\n",
       "      <td>1.776</td>\n",
       "      <td>1.383</td>\n",
       "      <td>23.99%</td>\n",
       "    </tr>\n",
       "    <tr>\n",
       "      <th>4</th>\n",
       "      <td>2021-02-28</td>\n",
       "      <td>1.407</td>\n",
       "      <td>1.071</td>\n",
       "      <td>1.614</td>\n",
       "      <td>1.060</td>\n",
       "      <td>31.38%</td>\n",
       "    </tr>\n",
       "    <tr>\n",
       "      <th>...</th>\n",
       "      <td>...</td>\n",
       "      <td>...</td>\n",
       "      <td>...</td>\n",
       "      <td>...</td>\n",
       "      <td>...</td>\n",
       "      <td>...</td>\n",
       "    </tr>\n",
       "    <tr>\n",
       "      <th>612</th>\n",
       "      <td>1970-06-30</td>\n",
       "      <td>7.840</td>\n",
       "      <td>7.840</td>\n",
       "      <td>7.840</td>\n",
       "      <td>7.840</td>\n",
       "      <td>-0.88%</td>\n",
       "    </tr>\n",
       "    <tr>\n",
       "      <th>613</th>\n",
       "      <td>1970-05-31</td>\n",
       "      <td>7.910</td>\n",
       "      <td>7.910</td>\n",
       "      <td>7.910</td>\n",
       "      <td>7.910</td>\n",
       "      <td>7.04%</td>\n",
       "    </tr>\n",
       "    <tr>\n",
       "      <th>614</th>\n",
       "      <td>1970-04-30</td>\n",
       "      <td>7.390</td>\n",
       "      <td>7.390</td>\n",
       "      <td>7.390</td>\n",
       "      <td>7.390</td>\n",
       "      <td>4.53%</td>\n",
       "    </tr>\n",
       "    <tr>\n",
       "      <th>615</th>\n",
       "      <td>1970-03-31</td>\n",
       "      <td>7.070</td>\n",
       "      <td>7.070</td>\n",
       "      <td>7.070</td>\n",
       "      <td>7.070</td>\n",
       "      <td>-2.35%</td>\n",
       "    </tr>\n",
       "    <tr>\n",
       "      <th>616</th>\n",
       "      <td>1970-02-28</td>\n",
       "      <td>7.240</td>\n",
       "      <td>7.240</td>\n",
       "      <td>7.240</td>\n",
       "      <td>7.240</td>\n",
       "      <td>-7.06%</td>\n",
       "    </tr>\n",
       "  </tbody>\n",
       "</table>\n",
       "<p>617 rows × 6 columns</p>\n",
       "</div>"
      ],
      "text/plain": [
       "          Date  Price   Open   High    Low Change %\n",
       "0   2021-06-30  1.443  1.610  1.637  1.430   -8.69%\n",
       "1   2021-05-31  1.581  1.631  1.707  1.469   -2.78%\n",
       "2   2021-04-30  1.626  1.737  1.753  1.528   -6.77%\n",
       "3   2021-03-31  1.744  1.395  1.776  1.383   23.99%\n",
       "4   2021-02-28  1.407  1.071  1.614  1.060   31.38%\n",
       "..         ...    ...    ...    ...    ...      ...\n",
       "612 1970-06-30  7.840  7.840  7.840  7.840   -0.88%\n",
       "613 1970-05-31  7.910  7.910  7.910  7.910    7.04%\n",
       "614 1970-04-30  7.390  7.390  7.390  7.390    4.53%\n",
       "615 1970-03-31  7.070  7.070  7.070  7.070   -2.35%\n",
       "616 1970-02-28  7.240  7.240  7.240  7.240   -7.06%\n",
       "\n",
       "[617 rows x 6 columns]"
      ]
     },
     "execution_count": 167,
     "metadata": {},
     "output_type": "execute_result"
    }
   ],
   "source": [
    "tbond_cleaned"
   ]
  },
  {
   "cell_type": "code",
   "execution_count": 177,
   "metadata": {},
   "outputs": [],
   "source": [
    "tips = pd.read_csv('10y_tips.csv')\n",
    "tips_cleaned = tips.copy()"
   ]
  },
  {
   "cell_type": "code",
   "execution_count": 178,
   "metadata": {},
   "outputs": [],
   "source": [
    "tips_cleaned = adjust_date_index(tips_cleaned)"
   ]
  },
  {
   "cell_type": "code",
   "execution_count": 180,
   "metadata": {},
   "outputs": [
    {
     "data": {
      "text/html": [
       "<div>\n",
       "<style scoped>\n",
       "    .dataframe tbody tr th:only-of-type {\n",
       "        vertical-align: middle;\n",
       "    }\n",
       "\n",
       "    .dataframe tbody tr th {\n",
       "        vertical-align: top;\n",
       "    }\n",
       "\n",
       "    .dataframe thead th {\n",
       "        text-align: right;\n",
       "    }\n",
       "</style>\n",
       "<table border=\"1\" class=\"dataframe\">\n",
       "  <thead>\n",
       "    <tr style=\"text-align: right;\">\n",
       "      <th></th>\n",
       "      <th>Date</th>\n",
       "      <th>Price</th>\n",
       "      <th>Open</th>\n",
       "      <th>High</th>\n",
       "      <th>Low</th>\n",
       "      <th>Change %</th>\n",
       "    </tr>\n",
       "  </thead>\n",
       "  <tbody>\n",
       "    <tr>\n",
       "      <th>0</th>\n",
       "      <td>2021-06-30</td>\n",
       "      <td>110.59</td>\n",
       "      <td>110.03</td>\n",
       "      <td>110.03</td>\n",
       "      <td>110.03</td>\n",
       "      <td>0.66%</td>\n",
       "    </tr>\n",
       "    <tr>\n",
       "      <th>1</th>\n",
       "      <td>2021-05-31</td>\n",
       "      <td>109.87</td>\n",
       "      <td>109.59</td>\n",
       "      <td>109.59</td>\n",
       "      <td>109.59</td>\n",
       "      <td>0.69%</td>\n",
       "    </tr>\n",
       "    <tr>\n",
       "      <th>2</th>\n",
       "      <td>2021-04-30</td>\n",
       "      <td>109.12</td>\n",
       "      <td>108.12</td>\n",
       "      <td>108.12</td>\n",
       "      <td>108.12</td>\n",
       "      <td>1.42%</td>\n",
       "    </tr>\n",
       "    <tr>\n",
       "      <th>3</th>\n",
       "      <td>2021-03-31</td>\n",
       "      <td>107.59</td>\n",
       "      <td>108.78</td>\n",
       "      <td>108.78</td>\n",
       "      <td>108.78</td>\n",
       "      <td>-1.16%</td>\n",
       "    </tr>\n",
       "    <tr>\n",
       "      <th>4</th>\n",
       "      <td>2021-02-28</td>\n",
       "      <td>108.84</td>\n",
       "      <td>111.89</td>\n",
       "      <td>111.89</td>\n",
       "      <td>111.89</td>\n",
       "      <td>-2.93%</td>\n",
       "    </tr>\n",
       "    <tr>\n",
       "      <th>...</th>\n",
       "      <td>...</td>\n",
       "      <td>...</td>\n",
       "      <td>...</td>\n",
       "      <td>...</td>\n",
       "      <td>...</td>\n",
       "      <td>...</td>\n",
       "    </tr>\n",
       "    <tr>\n",
       "      <th>131</th>\n",
       "      <td>2010-07-31</td>\n",
       "      <td>102.64</td>\n",
       "      <td>102.64</td>\n",
       "      <td>102.64</td>\n",
       "      <td>102.64</td>\n",
       "      <td>0.11%</td>\n",
       "    </tr>\n",
       "    <tr>\n",
       "      <th>132</th>\n",
       "      <td>2010-06-30</td>\n",
       "      <td>102.53</td>\n",
       "      <td>102.53</td>\n",
       "      <td>102.53</td>\n",
       "      <td>102.53</td>\n",
       "      <td>1.77%</td>\n",
       "    </tr>\n",
       "    <tr>\n",
       "      <th>133</th>\n",
       "      <td>2010-05-31</td>\n",
       "      <td>100.75</td>\n",
       "      <td>100.75</td>\n",
       "      <td>100.75</td>\n",
       "      <td>100.75</td>\n",
       "      <td>-0.22%</td>\n",
       "    </tr>\n",
       "    <tr>\n",
       "      <th>134</th>\n",
       "      <td>2010-04-30</td>\n",
       "      <td>100.97</td>\n",
       "      <td>100.97</td>\n",
       "      <td>100.97</td>\n",
       "      <td>100.97</td>\n",
       "      <td>3.01%</td>\n",
       "    </tr>\n",
       "    <tr>\n",
       "      <th>135</th>\n",
       "      <td>2010-03-31</td>\n",
       "      <td>98.02</td>\n",
       "      <td>98.02</td>\n",
       "      <td>98.02</td>\n",
       "      <td>98.02</td>\n",
       "      <td>-1.07%</td>\n",
       "    </tr>\n",
       "  </tbody>\n",
       "</table>\n",
       "<p>136 rows × 6 columns</p>\n",
       "</div>"
      ],
      "text/plain": [
       "          Date   Price    Open    High     Low Change %\n",
       "0   2021-06-30  110.59  110.03  110.03  110.03    0.66%\n",
       "1   2021-05-31  109.87  109.59  109.59  109.59    0.69%\n",
       "2   2021-04-30  109.12  108.12  108.12  108.12    1.42%\n",
       "3   2021-03-31  107.59  108.78  108.78  108.78   -1.16%\n",
       "4   2021-02-28  108.84  111.89  111.89  111.89   -2.93%\n",
       "..         ...     ...     ...     ...     ...      ...\n",
       "131 2010-07-31  102.64  102.64  102.64  102.64    0.11%\n",
       "132 2010-06-30  102.53  102.53  102.53  102.53    1.77%\n",
       "133 2010-05-31  100.75  100.75  100.75  100.75   -0.22%\n",
       "134 2010-04-30  100.97  100.97  100.97  100.97    3.01%\n",
       "135 2010-03-31   98.02   98.02   98.02   98.02   -1.07%\n",
       "\n",
       "[136 rows x 6 columns]"
      ]
     },
     "execution_count": 180,
     "metadata": {},
     "output_type": "execute_result"
    }
   ],
   "source": [
    "tips_cleaned"
   ]
  },
  {
   "cell_type": "code",
   "execution_count": 174,
   "metadata": {},
   "outputs": [
    {
     "data": {
      "text/plain": [
       "<matplotlib.axes._subplots.AxesSubplot at 0x7f0a1e25f3a0>"
      ]
     },
     "execution_count": 174,
     "metadata": {},
     "output_type": "execute_result"
    },
    {
     "data": {
      "image/png": "[encoded data removed]",
      "text/plain": [
       "<Figure size 1152x432 with 1 Axes>"
      ]
     },
     "metadata": {
      "needs_background": "light"
     },
     "output_type": "display_data"
    }
   ],
   "source": [
    "plt.figure(figsize=(16, 6))\n",
    "sns.set_theme()\n",
    "sns.lineplot(data=tbond_cleaned, x=\"Date\", y=\"Price\")"
   ]
  },
  {
   "cell_type": "code",
   "execution_count": 176,
   "metadata": {},
   "outputs": [],
   "source": [
    "gold = pd.read_excel('gold.xlsx',\n",
    "                     sheet_name=\"Monthly_Average\",\n",
    "                     index_col=3,\n",
    "                     skiprows=list(range(0,8)),\n",
    "                     engine=\"openpyxl\")\n",
    "gold = gold.iloc[:, 3:4]"
   ]
  },
  {
   "cell_type": "code",
   "execution_count": 19,
   "metadata": {},
   "outputs": [
    {
     "name": "stdout",
     "output_type": "stream",
     "text": [
      "<class 'pandas.core.frame.DataFrame'>\n",
      "DatetimeIndex: 1764 entries, 1978-12-31 to NaT\n",
      "Data columns (total 1 columns):\n",
      " #   Column     Non-Null Count  Dtype  \n",
      "---  ------     --------------  -----  \n",
      " 0   US dollar  510 non-null    float64\n",
      "dtypes: float64(1)\n",
      "memory usage: 27.6 KB\n"
     ]
    }
   ],
   "source": [
    "gold.info()"
   ]
  },
  {
   "cell_type": "code",
   "execution_count": 25,
   "metadata": {},
   "outputs": [
    {
     "data": {
      "text/plain": [
       "DatetimeIndex(['1978-12-31', '1979-01-31', '1979-02-28', '1979-03-30',\n",
       "               '1979-04-30', '1979-05-31', '1979-06-29', '1979-07-31',\n",
       "               '1979-08-31', '1979-09-28',\n",
       "               ...\n",
       "                      'NaT',        'NaT',        'NaT',        'NaT',\n",
       "                      'NaT',        'NaT',        'NaT',        'NaT',\n",
       "                      'NaT',        'NaT'],\n",
       "              dtype='datetime64[ns]', name='Name', length=1764, freq=None)"
      ]
     },
     "execution_count": 25,
     "metadata": {},
     "output_type": "execute_result"
    }
   ],
   "source": [
    "gold.index"
   ]
  }
 ],
 "metadata": {
  "kernelspec": {
   "display_name": "Python 3",
   "language": "python",
   "name": "python3"
  },
  "language_info": {
   "codemirror_mode": {
    "name": "ipython",
    "version": 3
   },
   "file_extension": ".py",
   "mimetype": "text/x-python",
   "name": "python",
   "nbconvert_exporter": "python",
   "pygments_lexer": "ipython3",
   "version": "3.8.0"
  }
 },
 "nbformat": 4,
 "nbformat_minor": 4
}
